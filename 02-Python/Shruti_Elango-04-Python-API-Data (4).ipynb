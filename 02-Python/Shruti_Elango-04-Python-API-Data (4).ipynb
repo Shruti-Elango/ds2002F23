{
 "cells": [
  {
   "cell_type": "code",
   "execution_count": 1,
   "metadata": {},
   "outputs": [
    {
     "name": "stdout",
     "output_type": "stream",
     "text": [
      "Defaulting to user installation because normal site-packages is not writeable\n",
      "Requirement already satisfied: requests in /sfs/applications/202307/software/standard/compiler/gcc/9.2.0/jupyter_conda/2020.11-py3.8/lib/python3.8/site-packages (2.24.0)\n",
      "Requirement already satisfied: chardet<4,>=3.0.2 in /sfs/applications/202307/software/standard/compiler/gcc/9.2.0/jupyter_conda/2020.11-py3.8/lib/python3.8/site-packages (from requests) (3.0.4)\n",
      "Requirement already satisfied: certifi>=2017.4.17 in /sfs/applications/202307/software/standard/compiler/gcc/9.2.0/jupyter_conda/2020.11-py3.8/lib/python3.8/site-packages (from requests) (2021.10.8)\n",
      "Requirement already satisfied: idna<3,>=2.5 in /sfs/applications/202307/software/standard/compiler/gcc/9.2.0/jupyter_conda/2020.11-py3.8/lib/python3.8/site-packages (from requests) (2.10)\n",
      "Requirement already satisfied: urllib3!=1.25.0,!=1.25.1,<1.26,>=1.21.1 in /sfs/applications/202307/software/standard/compiler/gcc/9.2.0/jupyter_conda/2020.11-py3.8/lib/python3.8/site-packages (from requests) (1.25.11)\n"
     ]
    }
   ],
   "source": [
    "!pip install requests"
   ]
  },
  {
   "cell_type": "code",
   "execution_count": 20,
   "metadata": {},
   "outputs": [],
   "source": [
    "import os\n",
    "import json\n",
    "import pprint\n",
    "import requests\n",
    "from datetime import date\n",
    "import requests.exceptions\n",
    "import pandas as pd"
   ]
  },
  {
   "cell_type": "code",
   "execution_count": 21,
   "metadata": {},
   "outputs": [],
   "source": [
    "def get_api_response(url, response_type):\n",
    "    try:\n",
    "        response = requests.get(url)\n",
    "        response.raise_for_status()\n",
    "    \n",
    "    except requests.exceptions.HTTPError as errh:\n",
    "        return \"An Http Error occurred: \" + repr(errh)\n",
    "    except requests.exceptions.ConnectionError as errc:\n",
    "        return \"An Error Connecting to the API occurred: \" + repr(errc)\n",
    "    except requests.exceptions.Timeout as errt:\n",
    "        return \"A Timeout Error occurred: \" + repr(errt)\n",
    "    except requests.exceptions.RequestException as err:\n",
    "        return \"An Unknown Error occurred: \" + repr(err)\n",
    "\n",
    "    if response_type == 'json':\n",
    "        result = json.dumps(response.json(), sort_keys=True, indent=4)\n",
    "    elif response_type == 'dataframe':\n",
    "        result = pd.json_normalize(response.json())\n",
    "    else:\n",
    "        result = \"An unhandled error has occurred!\"\n",
    "        \n",
    "    return result"
   ]
  },
  {
   "cell_type": "code",
   "execution_count": 47,
   "metadata": {},
   "outputs": [
    {
     "name": "stdin",
     "output_type": "stream",
     "text": [
      "Ticker for Stock: Goog\n"
     ]
    },
    {
     "name": "stdout",
     "output_type": "stream",
     "text": [
      "The Stock we will research is Goog\n"
     ]
    }
   ],
   "source": [
    "stock= input(\"Ticker for Stock:\")\n",
    "print('The Stock we will research is '+stock)"
   ]
  },
  {
   "cell_type": "code",
   "execution_count": 48,
   "metadata": {},
   "outputs": [],
   "source": [
    "apikey=\"V8SOTjvAK63kpuCs3B5Hl6y0QM14Z4e96DHRrxb8\"\n",
    "\n",
    "qurl = \"https://yfapi.net/v6/finance/quote\"\n",
    "surl= f\"https://yfapi.net/v11/finance/quoteSummary/\"+stock+'?lang=en&region=US&modules=defaultKeyStatistics%2CassetProfile'\n",
    "\n",
    "qstring = {\"symbols\":stock}\n",
    "sstring= {\"modules\":'financialData'}\n",
    "headers = {'x-api-key': apikey}"
   ]
  },
  {
   "cell_type": "code",
   "execution_count": 49,
   "metadata": {},
   "outputs": [],
   "source": [
    "\n",
    "\n",
    "quote_response = requests.request(\"GET\", qurl, headers=headers, params=qstring)\n",
    "quote_data= quote_response.json()\n",
    "if not quote_data.get('quoteResponse',{}).get('result'):\n",
    "    print(f\"No data found for Ticker, try again\")\n",
    "    exit()\n",
    "if quote_data.get('quoteResponse',{}).get('result'):\n",
    "    full_name=quote_data['quoteResponse']['result'][0].get(\"longName\",'N/A')\n",
    "    current_price= quote_data['quoteResponse']['result'][0].get(\"regularMarketPrice\",'N/A')  \n",
    "          \n",
    "          \n",
    "summary_response = requests.request(\"GET\", surl, headers=headers, params=sstring)\n",
    "summary_data= summary_response.json()\n",
    "\n",
    "\n",
    "target_mean_price=summary_data['quoteSummary']['result'][0]['financialData'].get(\"targetMeanPrice\",{}).get(\"raw\",\"N/A\")          \n",
    "cash_on_hand=summary_data['quoteSummary']['result'][0]['financialData'].get(\"totalCash\",{}).get(\"raw\",\"N/A\") \n",
    "gross_profits=summary_data['quoteSummary']['result'][0]['financialData'].get(\"grossProfits\",{}).get(\"raw\",\"N/A\")   \n",
    "\n"
   ]
  },
  {
   "cell_type": "code",
   "execution_count": 52,
   "metadata": {},
   "outputs": [
    {
     "name": "stdout",
     "output_type": "stream",
     "text": [
      "Ticker: Goog\n",
      "Full Name: Alphabet Inc.\n",
      "Current Price: 132.605\n",
      "Target Mean Price: 142.3\n",
      "Cash on Hand: 118331998208\n",
      "Gross Profits: 156633000000\n"
     ]
    }
   ],
   "source": [
    "#print info\n",
    "print(f\"Ticker: {stock}\")\n",
    "print(f\"Full Name: {full_name}\")\n",
    "print(f\"Current Price: {current_price}\")\n",
    "print(f\"Target Mean Price: {target_mean_price}\")\n",
    "print(f\"Cash on Hand: {cash_on_hand}\")\n",
    "print(f\"Gross Profits: {gross_profits}\")"
   ]
  },
  {
   "cell_type": "code",
   "execution_count": 53,
   "metadata": {},
   "outputs": [],
   "source": [
    "#json file\n",
    "stock_info={\n",
    "    \"Ticker\": stock,\n",
    "    \"Full Name\": full_name,\n",
    "    \"Current Price\": current_price,\n",
    "    \"Target Mean Price\": target_mean_price,\n",
    "    \"Cash on Hand\": cash_on_hand,\n",
    "    \"Gross Profits\": gross_profits,\n",
    "}\n",
    "\n",
    "with open ('dat.json', 'w') as f:\n",
    "    json.dump(stock_info, f, indent=2)"
   ]
  },
  {
   "cell_type": "code",
   "execution_count": null,
   "metadata": {},
   "outputs": [],
   "source": [
    "\n",
    "#Write a reflection on your code and cover the following topics . You can save it as a word, or txt file but make sure it is in your Git REPO (10pts):\n",
    "#a. What security mechanisms are in place to make sure the right people can pull the data?\n",
    "#b.  What kind of errors did you encounter when you tested this? How did you handle it? Was is coding errors? What about errors in how users may use the program?\n",
    "#c. If you didn't know how to code something, what resources did you use? \n",
    "\n",
    "print('https://docs.google.com/document/d/194HFUhuEtMcEvTNq-jxx9z03Fp0EtZVzKWUgvbNKfdA/edit?usp=sharing')"
   ]
  }
 ],
 "metadata": {
  "kernelspec": {
   "display_name": "Python 3",
   "language": "python",
   "name": "python3"
  },
  "language_info": {
   "codemirror_mode": {
    "name": "ipython",
    "version": 3
   },
   "file_extension": ".py",
   "mimetype": "text/x-python",
   "name": "python",
   "nbconvert_exporter": "python",
   "pygments_lexer": "ipython3",
   "version": "3.8.8"
  }
 },
 "nbformat": 4,
 "nbformat_minor": 4
}
