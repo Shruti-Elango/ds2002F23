{
 "cells": [
  {
   "cell_type": "code",
   "execution_count": 16,
   "metadata": {},
   "outputs": [
    {
     "name": "stdout",
     "output_type": "stream",
     "text": [
      "Defaulting to user installation because normal site-packages is not writeable\n",
      "Requirement already satisfied: requests in /sfs/applications/202307/software/standard/compiler/gcc/9.2.0/jupyter_conda/2020.11-py3.8/lib/python3.8/site-packages (2.24.0)\n",
      "Requirement already satisfied: urllib3!=1.25.0,!=1.25.1,<1.26,>=1.21.1 in /sfs/applications/202307/software/standard/compiler/gcc/9.2.0/jupyter_conda/2020.11-py3.8/lib/python3.8/site-packages (from requests) (1.25.11)\n",
      "Requirement already satisfied: idna<3,>=2.5 in /sfs/applications/202307/software/standard/compiler/gcc/9.2.0/jupyter_conda/2020.11-py3.8/lib/python3.8/site-packages (from requests) (2.10)\n",
      "Requirement already satisfied: certifi>=2017.4.17 in /sfs/applications/202307/software/standard/compiler/gcc/9.2.0/jupyter_conda/2020.11-py3.8/lib/python3.8/site-packages (from requests) (2021.10.8)\n",
      "Requirement already satisfied: chardet<4,>=3.0.2 in /sfs/applications/202307/software/standard/compiler/gcc/9.2.0/jupyter_conda/2020.11-py3.8/lib/python3.8/site-packages (from requests) (3.0.4)\n"
     ]
    }
   ],
   "source": [
    "!pip install requests"
   ]
  },
  {
   "cell_type": "code",
   "execution_count": 17,
   "metadata": {},
   "outputs": [],
   "source": [
    "import os\n",
    "import json\n",
    "import pprint\n",
    "import requests\n",
    "import requests.exceptions\n",
    "import pandas as pd"
   ]
  },
  {
   "cell_type": "code",
   "execution_count": 18,
   "metadata": {},
   "outputs": [],
   "source": [
    "def get_api_response(url, response_type):\n",
    "    try:\n",
    "        response = requests.get(url)\n",
    "        response.raise_for_status()\n",
    "    \n",
    "    except requests.exceptions.HTTPError as errh:\n",
    "        return \"An Http Error occurred: \" + repr(errh)\n",
    "    except requests.exceptions.ConnectionError as errc:\n",
    "        return \"An Error Connecting to the API occurred: \" + repr(errc)\n",
    "    except requests.exceptions.Timeout as errt:\n",
    "        return \"A Timeout Error occurred: \" + repr(errt)\n",
    "    except requests.exceptions.RequestException as err:\n",
    "        return \"An Unknown Error occurred: \" + repr(err)\n",
    "\n",
    "    if response_type == 'json':\n",
    "        result = json.dumps(response.json(), sort_keys=True, indent=4)\n",
    "    elif response_type == 'dataframe':\n",
    "        result = pd.json_normalize(response.json())\n",
    "    else:\n",
    "        result = \"An unhandled error has occurred!\"\n",
    "        \n",
    "    return result"
   ]
  },
  {
   "cell_type": "code",
   "execution_count": 24,
   "metadata": {},
   "outputs": [
    {
     "name": "stdin",
     "output_type": "stream",
     "text": [
      " aapl\n"
     ]
    }
   ],
   "source": [
    "#get stock from the user\n",
    "stock=input()"
   ]
  },
  {
   "cell_type": "code",
   "execution_count": 25,
   "metadata": {},
   "outputs": [
    {
     "name": "stdout",
     "output_type": "stream",
     "text": [
      "The Stock researched:aapl\n"
     ]
    }
   ],
   "source": [
    "print(\"The Stock researched:\" + stock)"
   ]
  },
  {
   "cell_type": "code",
   "execution_count": 26,
   "metadata": {},
   "outputs": [
    {
     "name": "stdout",
     "output_type": "stream",
     "text": [
      "{\"quoteResponse\":{\"result\":[{\"language\":\"en-US\",\"region\":\"US\",\"quoteType\":\"EQUITY\",\"typeDisp\":\"Equity\",\"quoteSourceName\":\"Nasdaq Real Time Price\",\"triggerable\":true,\"customPriceAlertConfidence\":\"HIGH\",\"currency\":\"USD\",\"marketCap\":2688457113600,\"forwardPE\":26.094082,\"priceToBook\":44.641747,\"sourceInterval\":15,\"exchangeDataDelayedBy\":0,\"averageAnalystRating\":\"2.0 - Buy\",\"tradeable\":false,\"cryptoTradeable\":false,\"exchange\":\"NMS\",\"shortName\":\"Apple Inc.\",\"longName\":\"Apple Inc.\",\"messageBoardId\":\"finmb_24937\",\"exchangeTimezoneName\":\"America/New_York\",\"exchangeTimezoneShortName\":\"EDT\",\"gmtOffSetMilliseconds\":-14400000,\"market\":\"us_market\",\"esgPopulated\":false,\"marketState\":\"POST\",\"firstTradeDateMilliseconds\":345479400000,\"priceHint\":2,\"postMarketChangePercent\":0.084315546,\"postMarketTime\":1695770047,\"postMarketPrice\":172.105,\"postMarketChange\":0.14498901,\"regularMarketChange\":-4.119995,\"regularMarketTime\":1695758401,\"regularMarketDayHigh\":175.055,\"regularMarketDayRange\":\"171.66 - 175.055\",\"regularMarketDayLow\":171.66,\"regularMarketVolume\":61108831,\"regularMarketPreviousClose\":176.08,\"bid\":172.01,\"ask\":172.07,\"bidSize\":8,\"askSize\":11,\"fullExchangeName\":\"NasdaqGS\",\"financialCurrency\":\"USD\",\"regularMarketOpen\":174.82,\"averageDailyVolume3Month\":57932096,\"averageDailyVolume10Day\":68809020,\"fiftyTwoWeekLowChange\":47.79001,\"fiftyTwoWeekLowChangePercent\":0.38487566,\"fiftyTwoWeekRange\":\"124.17 - 198.23\",\"fiftyTwoWeekHighChange\":-26.269989,\"fiftyTwoWeekHighChangePercent\":-0.13252278,\"fiftyTwoWeekLow\":124.17,\"fiftyTwoWeekHigh\":198.23,\"fiftyTwoWeekChangePercent\":16.025305,\"dividendDate\":1692230400,\"earningsTimestamp\":1691096400,\"earningsTimestampStart\":1698231540,\"earningsTimestampEnd\":1698667200,\"trailingAnnualDividendRate\":0.93,\"trailingPE\":28.900843,\"dividendRate\":0.96,\"trailingAnnualDividendYield\":0.00528169,\"dividendYield\":0.55,\"epsTrailingTwelveMonths\":5.95,\"epsForward\":6.59,\"epsCurrentYear\":6.07,\"priceEpsCurrentYear\":28.329489,\"sharesOutstanding\":15634199552,\"bookValue\":3.852,\"fiftyDayAverage\":183.099,\"fiftyDayAverageChange\":-11.138992,\"fiftyDayAverageChangePercent\":-0.060835898,\"twoHundredDayAverage\":165.6518,\"twoHundredDayAverageChange\":6.3082123,\"twoHundredDayAverageChangePercent\":0.038081158,\"regularMarketChangePercent\":-2.3398428,\"regularMarketPrice\":171.96,\"displayName\":\"Apple\",\"symbol\":\"AAPL\"}],\"error\":null}}\n"
     ]
    }
   ],
   "source": [
    "\n",
    "apikey=\"V8SOTjvAK63kpuCs3B5Hl6y0QM14Z4e96DHRrxb8\"\n",
    "\n",
    "url = \"https://yfapi.net/v6/finance/quote\"\n",
    "\n",
    "querystring = {\"symbols\":stock}\n",
    "\n",
    "headers = {\n",
    "    'x-api-key': apikey\n",
    "    }\n",
    "\n",
    "response = requests.request(\"GET\", url, headers=headers, params=querystring)\n",
    "\n",
    "print(response.text)"
   ]
  },
  {
   "cell_type": "code",
   "execution_count": 27,
   "metadata": {},
   "outputs": [
    {
     "name": "stdout",
     "output_type": "stream",
     "text": [
      "Apple Inc. Ticker: AAPL Price:$171.96 Target Mean Price: 44.641747\n"
     ]
    }
   ],
   "source": [
    "stock_json = response.json() \n",
    "print(stock_json['quoteResponse']['result'][0][\"longName\"] + \" Ticker: \" + str(stock_json['quoteResponse']['result'][0][\"symbol\"]) +\" Price:$\" + str(stock_json['quoteResponse']['result'][0][\"regularMarketPrice\"])+ \" Target Mean Price: \" + str(stock_json['quoteResponse']['result'][0][\"priceToBook\"]))\n"
   ]
  },
  {
   "cell_type": "code",
   "execution_count": 28,
   "metadata": {},
   "outputs": [
    {
     "name": "stdout",
     "output_type": "stream",
     "text": [
      "Cash on Hand from the last balance sheet: 1698667200, Gross Profits: 1691096400\n"
     ]
    }
   ],
   "source": [
    "print(\"Cash on Hand from the last balance sheet: \" + str(stock_json['quoteResponse']['result'][0]['earningsTimestampEnd']) + \", Gross Profits: \" + str(stock_json['quoteResponse']['result'][0][\"earningsTimestamp\"]))"
   ]
  },
  {
   "cell_type": "code",
   "execution_count": 29,
   "metadata": {},
   "outputs": [],
   "source": [
    "import requests\n",
    "apikey=\"V8SOTjvAK63kpuCs3B5Hl6y0QM14Z4e96DHRrxb8\"\n",
    "\n",
    "balance_url = 'https://yfapi.net/v11/finance/quoteSummary/aapl?lang=en&region=US&modules=balanceSheetHistory'\n",
    "\n",
    "querystring = {\"symbols\":stock}\n",
    "\n",
    "headers = {\n",
    "    'x-api-key': apikey\n",
    "    }\n",
    "\n",
    "balance_response = requests.request(\"GET\", balance_url, headers=headers, params=querystring)\n",
    "balancestock_json = response.json() \n",
    "#print(balance_response.text)"
   ]
  },
  {
   "cell_type": "code",
   "execution_count": null,
   "metadata": {},
   "outputs": [],
   "source": []
  },
  {
   "cell_type": "code",
   "execution_count": 30,
   "metadata": {},
   "outputs": [
    {
     "ename": "KeyError",
     "evalue": "'cash'",
     "output_type": "error",
     "traceback": [
      "\u001b[0;31m---------------------------------------------------------------------------\u001b[0m",
      "\u001b[0;31mKeyError\u001b[0m                                  Traceback (most recent call last)",
      "\u001b[0;32m<ipython-input-30-1a812977381f>\u001b[0m in \u001b[0;36m<module>\u001b[0;34m\u001b[0m\n\u001b[0;32m----> 1\u001b[0;31m \u001b[0mprint\u001b[0m\u001b[0;34m(\u001b[0m\u001b[0mbalancestock_json\u001b[0m\u001b[0;34m[\u001b[0m\u001b[0;34m'quoteResponse'\u001b[0m\u001b[0;34m]\u001b[0m\u001b[0;34m[\u001b[0m\u001b[0;34m'result'\u001b[0m\u001b[0;34m]\u001b[0m\u001b[0;34m[\u001b[0m\u001b[0;36m0\u001b[0m\u001b[0;34m]\u001b[0m\u001b[0;34m[\u001b[0m\u001b[0;34m\"longName\"\u001b[0m\u001b[0;34m]\u001b[0m\u001b[0;34m+\u001b[0m \u001b[0;34m\"Cash on Hand from the last Balance Sheet\"\u001b[0m \u001b[0;34m+\u001b[0m \u001b[0mstr\u001b[0m\u001b[0;34m(\u001b[0m\u001b[0mbalancestock_json\u001b[0m\u001b[0;34m[\u001b[0m\u001b[0;34m'quoteResponse'\u001b[0m\u001b[0;34m]\u001b[0m\u001b[0;34m[\u001b[0m\u001b[0;34m'result'\u001b[0m\u001b[0;34m]\u001b[0m\u001b[0;34m[\u001b[0m\u001b[0;36m0\u001b[0m\u001b[0;34m]\u001b[0m\u001b[0;34m[\u001b[0m\u001b[0;34m'cash'\u001b[0m\u001b[0;34m]\u001b[0m\u001b[0;34m)\u001b[0m\u001b[0;34m)\u001b[0m\u001b[0;34m\u001b[0m\u001b[0;34m\u001b[0m\u001b[0m\n\u001b[0m",
      "\u001b[0;31mKeyError\u001b[0m: 'cash'"
     ]
    }
   ],
   "source": [
    "\n",
    "print(balancestock_json['quoteResponse']['result'][0][\"longName\"]+ \"Cash on Hand from the last Balance Sheet\" + str(balancestock_json['quoteResponse']['result'][0]['cash']))\n"
   ]
  },
  {
   "cell_type": "code",
   "execution_count": 31,
   "metadata": {},
   "outputs": [],
   "source": [
    "import requests\n",
    "apikey=\"V8SOTjvAK63kpuCs3B5Hl6y0QM14Z4e96DHRrxb8\"\n",
    "\n",
    "target_url = 'https://yfapi.net/ws/insights/v1/finance/insights?symbol=AAPL'\n",
    "\n",
    "querystring = {\"symbols\":stock}\n",
    "\n",
    "headers = {\n",
    "    'x-api-key': apikey\n",
    "    }\n",
    "\n",
    "target_response = requests.request(\"GET\", target_url, headers=headers, params=querystring)\n",
    "targetstock_json = response.json() \n",
    "#print(target_response.text)"
   ]
  },
  {
   "cell_type": "code",
   "execution_count": 20,
   "metadata": {},
   "outputs": [
    {
     "ename": "KeyError",
     "evalue": "'targetPrice'",
     "output_type": "error",
     "traceback": [
      "\u001b[0;31m---------------------------------------------------------------------------\u001b[0m",
      "\u001b[0;31mKeyError\u001b[0m                                  Traceback (most recent call last)",
      "\u001b[0;32m<ipython-input-20-0213e2cf7d74>\u001b[0m in \u001b[0;36m<module>\u001b[0;34m\u001b[0m\n\u001b[0;32m----> 1\u001b[0;31m \u001b[0mprint\u001b[0m\u001b[0;34m(\u001b[0m\u001b[0;34m\"Target Mean Price\"\u001b[0m \u001b[0;34m+\u001b[0m \u001b[0mstr\u001b[0m\u001b[0;34m(\u001b[0m\u001b[0mtargetstock_json\u001b[0m\u001b[0;34m[\u001b[0m\u001b[0;34m'quoteResponse'\u001b[0m\u001b[0;34m]\u001b[0m\u001b[0;34m[\u001b[0m\u001b[0;34m'result'\u001b[0m\u001b[0;34m]\u001b[0m\u001b[0;34m[\u001b[0m\u001b[0;36m0\u001b[0m\u001b[0;34m]\u001b[0m\u001b[0;34m[\u001b[0m\u001b[0;34m'targetPrice'\u001b[0m\u001b[0;34m]\u001b[0m \u001b[0;34m+\u001b[0m \u001b[0;34m\"Gross Profits\"\u001b[0m \u001b[0;34m+\u001b[0m \u001b[0mstr\u001b[0m\u001b[0;34m(\u001b[0m\u001b[0mbalancestock_json\u001b[0m\u001b[0;34m[\u001b[0m\u001b[0;34m'quoteResponse'\u001b[0m\u001b[0;34m]\u001b[0m\u001b[0;34m[\u001b[0m\u001b[0;34m'result'\u001b[0m\u001b[0;34m]\u001b[0m\u001b[0;34m[\u001b[0m\u001b[0;36m0\u001b[0m\u001b[0;34m]\u001b[0m\u001b[0;34m[\u001b[0m\u001b[0;34m\"grossProfits\"\u001b[0m\u001b[0;34m]\u001b[0m\u001b[0;34m)\u001b[0m\u001b[0;34m)\u001b[0m\u001b[0;34m)\u001b[0m\u001b[0;34m\u001b[0m\u001b[0;34m\u001b[0m\u001b[0m\n\u001b[0m",
      "\u001b[0;31mKeyError\u001b[0m: 'targetPrice'"
     ]
    }
   ],
   "source": [
    "print(\"Target Mean Price\" + str(targetstock_json['quoteResponse']['result'][0]['targetPrice'] + \"Gross Profits\" + str(balancestock_json['quoteResponse']['result'][0][\"grossProfits\"])))"
   ]
  },
  {
   "cell_type": "code",
   "execution_count": 32,
   "metadata": {},
   "outputs": [],
   "source": [
    "#Put the new information (Ticker, Full Name of the Stock, Current Price, Target Mean Price, Cash on Hand from the last balance sheet, Gross Profits.) into a Dataframe and write that to a file in a JSON format and CSV file. (10 pts)\n",
    "import os\n",
    "import json\n",
    "import pprint\n",
    "import requests\n",
    "import requests.exceptions\n",
    "import pandas as pd"
   ]
  },
  {
   "cell_type": "code",
   "execution_count": 30,
   "metadata": {},
   "outputs": [],
   "source": [
    "def get_api_response(url, response_type):\n",
    "    try:\n",
    "        response = requests.get(url)\n",
    "        response.raise_for_status()\n",
    "    \n",
    "    except requests.exceptions.HTTPError as errh:\n",
    "        return \"An Http Error occurred: \" + repr(errh)\n",
    "    except requests.exceptions.ConnectionError as errc:\n",
    "        return \"An Error Connecting to the API occurred: \" + repr(errc)\n",
    "    except requests.exceptions.Timeout as errt:\n",
    "        return \"A Timeout Error occurred: \" + repr(errt)\n",
    "    except requests.exceptions.RequestException as err:\n",
    "        return \"An Unknown Error occurred: \" + repr(err)\n",
    "\n",
    "    if response_type == 'json':\n",
    "        result = json.dumps(response.json(), sort_keys=True, indent=4)\n",
    "    elif response_type == 'dataframe':\n",
    "        result = pd.json_normalize(response.json())\n",
    "    else:\n",
    "        result = \"An unhandled error has occurred!\"\n",
    "        \n",
    "    return result"
   ]
  },
  {
   "cell_type": "code",
   "execution_count": 37,
   "metadata": {},
   "outputs": [
    {
     "name": "stdout",
     "output_type": "stream",
     "text": [
      "An Http Error occurred: HTTPError('403 Client Error: Forbidden for url: https://yfapi.net/v6/finance/quote')\n"
     ]
    }
   ],
   "source": [
    "json_string = get_api_response(url, response_type[0])\n",
    "print(json_string)"
   ]
  },
  {
   "cell_type": "code",
   "execution_count": 33,
   "metadata": {},
   "outputs": [
    {
     "name": "stdout",
     "output_type": "stream",
     "text": [
      "{\"quoteResponse\":{\"result\":[{\"language\":\"en-US\",\"region\":\"US\",\"quoteType\":\"EQUITY\",\"typeDisp\":\"Equity\",\"quoteSourceName\":\"Nasdaq Real Time Price\",\"triggerable\":true,\"customPriceAlertConfidence\":\"HIGH\",\"currency\":\"USD\",\"marketState\":\"POST\",\"regularMarketChangePercent\":-2.3398428,\"regularMarketPrice\":171.96,\"firstTradeDateMilliseconds\":345479400000,\"exchange\":\"NMS\",\"shortName\":\"Apple Inc.\",\"longName\":\"Apple Inc.\",\"messageBoardId\":\"finmb_24937\",\"exchangeTimezoneName\":\"America/New_York\",\"exchangeTimezoneShortName\":\"EDT\",\"gmtOffSetMilliseconds\":-14400000,\"market\":\"us_market\",\"esgPopulated\":false,\"priceHint\":2,\"postMarketChangePercent\":0.16863996,\"postMarketTime\":1695770894,\"postMarketPrice\":172.25,\"postMarketChange\":0.2899933,\"regularMarketChange\":-4.119995,\"regularMarketTime\":1695758401,\"regularMarketDayHigh\":175.055,\"regularMarketDayRange\":\"171.66 - 175.055\",\"regularMarketDayLow\":171.66,\"regularMarketVolume\":61108831,\"regularMarketPreviousClose\":176.08,\"bid\":172.01,\"ask\":172.09,\"bidSize\":8,\"askSize\":11,\"fullExchangeName\":\"NasdaqGS\",\"financialCurrency\":\"USD\",\"regularMarketOpen\":174.82,\"averageDailyVolume3Month\":57932096,\"averageDailyVolume10Day\":68809020,\"fiftyTwoWeekLowChange\":47.79001,\"fiftyTwoWeekLowChangePercent\":0.38487566,\"fiftyTwoWeekRange\":\"124.17 - 198.23\",\"fiftyTwoWeekHighChange\":-26.269989,\"fiftyTwoWeekHighChangePercent\":-0.13252278,\"fiftyTwoWeekLow\":124.17,\"fiftyTwoWeekHigh\":198.23,\"fiftyTwoWeekChangePercent\":16.025305,\"dividendDate\":1692230400,\"earningsTimestamp\":1691096400,\"earningsTimestampStart\":1698231540,\"earningsTimestampEnd\":1698667200,\"trailingAnnualDividendRate\":0.93,\"trailingPE\":28.900843,\"dividendRate\":0.96,\"trailingAnnualDividendYield\":0.00528169,\"dividendYield\":0.55,\"epsTrailingTwelveMonths\":5.95,\"epsForward\":6.59,\"epsCurrentYear\":6.07,\"priceEpsCurrentYear\":28.329489,\"sharesOutstanding\":15634199552,\"bookValue\":3.852,\"fiftyDayAverage\":183.099,\"fiftyDayAverageChange\":-11.138992,\"fiftyDayAverageChangePercent\":-0.060835898,\"twoHundredDayAverage\":165.6518,\"twoHundredDayAverageChange\":6.3082123,\"twoHundredDayAverageChangePercent\":0.038081158,\"marketCap\":2688457113600,\"forwardPE\":26.094082,\"priceToBook\":44.641747,\"sourceInterval\":15,\"exchangeDataDelayedBy\":0,\"averageAnalystRating\":\"2.0 - Buy\",\"tradeable\":false,\"cryptoTradeable\":false,\"displayName\":\"Apple\",\"symbol\":\"AAPL\"}],\"error\":null}}\n",
      "           Stock Ticker Current Price Target Mean Price  \\\n",
      "0     Apple Inc.   AAPL       $171.96         44.641747   \n",
      "1  Alphabet Inc.   GOOG       $117.32         13.521694   \n",
      "2    Tesla, Inc.   TSLA       $244.12         15.154262   \n",
      "3  Netflix, Inc.   NFLX        379.25         7.3607907   \n",
      "\n",
      "  Cash on Hand from the last balance sheet Gross Profits  \n",
      "0                               1698667200    1691096400  \n",
      "1                               1603742400    1595434164  \n",
      "2                               1698091200    1689802200  \n",
      "3                               1697659200    1697659200  \n"
     ]
    }
   ],
   "source": [
    "import pandas as pd\n",
    "\n",
    "apikey=\"V8SOTjvAK63kpuCs3B5Hl6y0QM14Z4e96DHRrxb8\"\n",
    "\n",
    "url = \"https://yfapi.net/v6/finance/quote\"\n",
    "\n",
    "querystring = {\"symbols\":stock}\n",
    "\n",
    "headers = {\n",
    "    'x-api-key': apikey\n",
    "    }\n",
    "\n",
    "response = requests.request(\"GET\", url, headers=headers, params=querystring)\n",
    "\n",
    "print(response.text)\n",
    "\n",
    "# Create a dictionary with sample data\n",
    "data = {\n",
    "    'Stock': ['Apple Inc.', 'Alphabet Inc.', 'Tesla, Inc.', 'Netflix, Inc.'],\n",
    "    'Ticker': ['AAPL', 'GOOG', 'TSLA', 'NFLX'],\n",
    "    'Current Price': ['$171.96', '$117.32', '$244.12', '379.25'],\n",
    "    'Target Mean Price': ['44.641747', '13.521694', '15.154262', '7.3607907'],\n",
    "    'Cash on Hand from the last balance sheet': ['1698667200', '1603742400', '1698091200', '1697659200'],\n",
    "    'Gross Profits': ['1691096400', '1595434164', '1689802200', '1697659200']\n",
    "}\n",
    "\n",
    "# Create a DataFrame from the dictionary\n",
    "df = pd.DataFrame(data)\n",
    "\n",
    "# Print the DataFrame\n",
    "print(df)"
   ]
  },
  {
   "cell_type": "code",
   "execution_count": 34,
   "metadata": {},
   "outputs": [
    {
     "name": "stdout",
     "output_type": "stream",
     "text": [
      "(4, 6)\n",
      "Index(['Stock', 'Ticker', 'Current Price', 'Target Mean Price',\n",
      "       'Cash on Hand from the last balance sheet', 'Gross Profits'],\n",
      "      dtype='object')\n",
      "<class 'pandas.core.frame.DataFrame'>\n",
      "RangeIndex: 4 entries, 0 to 3\n",
      "Data columns (total 6 columns):\n",
      " #   Column                                    Non-Null Count  Dtype \n",
      "---  ------                                    --------------  ----- \n",
      " 0   Stock                                     4 non-null      object\n",
      " 1   Ticker                                    4 non-null      object\n",
      " 2   Current Price                             4 non-null      object\n",
      " 3   Target Mean Price                         4 non-null      object\n",
      " 4   Cash on Hand from the last balance sheet  4 non-null      object\n",
      " 5   Gross Profits                             4 non-null      object\n",
      "dtypes: object(6)\n",
      "memory usage: 320.0+ bytes\n"
     ]
    }
   ],
   "source": [
    "print(df.shape)\n",
    "print(df.columns)\n",
    "\n",
    "df.info()"
   ]
  },
  {
   "cell_type": "code",
   "execution_count": 38,
   "metadata": {},
   "outputs": [
    {
     "name": "stdout",
     "output_type": "stream",
     "text": [
      "https://docs.google.com/document/d/194HFUhuEtMcEvTNq-jxx9z03Fp0EtZVzKWUgvbNKfdA/edit?usp=sharing\n"
     ]
    }
   ],
   "source": [
    "print('https://docs.google.com/document/d/194HFUhuEtMcEvTNq-jxx9z03Fp0EtZVzKWUgvbNKfdA/edit?usp=sharing')"
   ]
  },
  {
   "cell_type": "code",
   "execution_count": 39,
   "metadata": {},
   "outputs": [],
   "source": [
    "#Write a reflection on your code and cover the following topics . You can save it as a word, or txt file but make sure it is in your Git REPO (10pts):\n",
    "#a. What security mechanisms are in place to make sure the right people can pull the data?\n",
    "#b.  What kind of errors did you encounter when you tested this? How did you handle it? Was is coding errors? What about errors in how users may use the program?\n",
    "#c. If you didn't know how to code something, what resources did you use? \n",
    "\n"
   ]
  },
  {
   "cell_type": "code",
   "execution_count": null,
   "metadata": {},
   "outputs": [],
   "source": []
  },
  {
   "cell_type": "code",
   "execution_count": null,
   "metadata": {},
   "outputs": [],
   "source": []
  }
 ],
 "metadata": {
  "kernelspec": {
   "display_name": "Python 3",
   "language": "python",
   "name": "python3"
  },
  "language_info": {
   "codemirror_mode": {
    "name": "ipython",
    "version": 3
   },
   "file_extension": ".py",
   "mimetype": "text/x-python",
   "name": "python",
   "nbconvert_exporter": "python",
   "pygments_lexer": "ipython3",
   "version": "3.8.8"
  }
 },
 "nbformat": 4,
 "nbformat_minor": 4
}
